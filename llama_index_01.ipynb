{
 "cells": [
  {
   "cell_type": "markdown",
   "metadata": {},
   "source": [
    "Llama Index\n"
   ]
  },
  {
   "cell_type": "code",
   "execution_count": 9,
   "metadata": {},
   "outputs": [
    {
     "name": "stdout",
     "output_type": "stream",
     "text": [
      "jupyter console --existing c:\\Users\\Mendi\\AppData\\Roaming\\jupyter\\runtime\\kernel-v2-17064somdVPcvwHLT.json\n"
     ]
    }
   ],
   "source": [
    "from IPython.display import display\n",
    "from ipykernel.connect import get_connection_file\n",
    "print(\"jupyter console --existing \" +get_connection_file())"
   ]
  },
  {
   "cell_type": "code",
   "execution_count": 5,
   "metadata": {},
   "outputs": [],
   "source": [
    "import os\n",
    "from dotenv import load_dotenv\n",
    "\n",
    "\n",
    "# load_dotenv()\n",
    "# assert os.getenv('OPENAI_API_KEY') is not None\n"
   ]
  },
  {
   "cell_type": "code",
   "execution_count": 6,
   "metadata": {},
   "outputs": [],
   "source": [
    "DATA_DIR = \"data\"\n",
    "STORAGE_DIR = \"storage\""
   ]
  },
  {
   "cell_type": "markdown",
   "metadata": {},
   "source": [
    "Prepare"
   ]
  },
  {
   "cell_type": "code",
   "execution_count": 12,
   "metadata": {},
   "outputs": [],
   "source": [
    "from llama_index.core import VectorStoreIndex, SimpleDirectoryReader, StorageContext, load_index_from_storage\n",
    "if not os.path.exists(STORAGE_DIR):\n",
    "    documents = SimpleDirectoryReader(DATA_DIR).load_data()\n",
    "    index = VectorStoreIndex.from_documents(documents, show_progress=True)\n",
    "    index.storage_context.persist(persist_dir=STORAGE_DIR)\n",
    "\n",
    "storage_context = StorageContext.from_defaults(persist_dir=STORAGE_DIR)\n",
    "index = load_index_from_storage(storage_context)\n"
   ]
  },
  {
   "cell_type": "markdown",
   "metadata": {},
   "source": [
    "Retreive"
   ]
  },
  {
   "cell_type": "code",
   "execution_count": 16,
   "metadata": {},
   "outputs": [],
   "source": [
    "from llama_index.core.retrievers import VectorIndexRetriever\n",
    "from llama_index.core.query_engine import RetrieverQueryEngine\n",
    "from llama_index.core.indices.postprocessor import SimilarityPostprocessor\n",
    "retreiver = VectorIndexRetriever(index=index, similarity_top_k=1)\n",
    "postprocessor=SimilarityPostprocessor(similarity_cutoff=0.50)\n",
    "query_engine = RetrieverQueryEngine(retriever=retreiver, node_postprocessors=[postprocessor])\n",
    "# query_engine=index.as_query_engine()"
   ]
  },
  {
   "cell_type": "code",
   "execution_count": 21,
   "metadata": {},
   "outputs": [],
   "source": [
    "response = query_engine.query(\"similarity between SimSiam and InfoNCE\")"
   ]
  },
  {
   "cell_type": "code",
   "execution_count": 22,
   "metadata": {},
   "outputs": [
    {
     "name": "stdout",
     "output_type": "stream",
     "text": [
      "Final Response: Both SimSiam and InfoNCE may not appear conceptually\n",
      "similar at first glance, but upon closer examination, they share\n",
      "commonalities in terms of their functions.\n",
      "______________________________________________________________________\n",
      "Source Node 1/1\n",
      "Node ID: aa7fec38-db99-4074-999b-362f36158394\n",
      "Similarity: 0.8524074237767468\n",
      "Text: Moreover, we observe that a higher temperature also tends to\n",
      "increase the covariance value. Over- all, with temperature as the\n",
      "control variable, we ﬁnd that more balanced weights among negative\n",
      "samples decrease the de-correlation effect, which constitutes an\n",
      "evidence for our hypothesis. Unifying SimSiam and InfoNCE. At ﬁrst\n",
      "sight, there is no co...\n"
     ]
    }
   ],
   "source": [
    "from llama_index.core.response.pprint_utils import pprint_response\n",
    "pprint_response(response, show_source=True)"
   ]
  }
 ],
 "metadata": {
  "kernelspec": {
   "display_name": "Python 3",
   "language": "python",
   "name": "python3"
  },
  "language_info": {
   "codemirror_mode": {
    "name": "ipython",
    "version": 3
   },
   "file_extension": ".py",
   "mimetype": "text/x-python",
   "name": "python",
   "nbconvert_exporter": "python",
   "pygments_lexer": "ipython3",
   "version": "3.11.9"
  }
 },
 "nbformat": 4,
 "nbformat_minor": 2
}
